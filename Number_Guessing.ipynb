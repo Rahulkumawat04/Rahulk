{
  "nbformat": 4,
  "nbformat_minor": 0,
  "metadata": {
    "colab": {
      "provenance": [],
      "authorship_tag": "ABX9TyMBTIe7cycHpUK+2x68Ygr9",
      "include_colab_link": true
    },
    "kernelspec": {
      "name": "python3",
      "display_name": "Python 3"
    },
    "language_info": {
      "name": "python"
    }
  },
  "cells": [
    {
      "cell_type": "markdown",
      "metadata": {
        "id": "view-in-github",
        "colab_type": "text"
      },
      "source": [
        "<a href=\"https://colab.research.google.com/github/Rahulkumawat04/Rahulk/blob/master/Number_Guessing.ipynb\" target=\"_parent\"><img src=\"https://colab.research.google.com/assets/colab-badge.svg\" alt=\"Open In Colab\"/></a>"
      ]
    },
    {
      "cell_type": "code",
      "execution_count": 6,
      "metadata": {
        "colab": {
          "base_uri": "https://localhost:8080/"
        },
        "id": "qCg7OPSkI273",
        "outputId": "2a52c9e6-35be-4b7b-8c4b-6b9211c6d920"
      },
      "outputs": [
        {
          "output_type": "stream",
          "name": "stdout",
          "text": [
            "Enter lower bound - 1\n",
            "Enter upper bound - 5\n",
            "You've only 2 chances left to guess!\n",
            "Guess a number - 3\n",
            "Congratulations, you've guessed the correct number in  1  tries.\n"
          ]
        }
      ],
      "source": [
        "import random\n",
        "import math\n",
        "\n",
        "#taking bound input\n",
        "lower = int(input(\"Enter lower bound - \"))\n",
        "upper = int(input(\"Enter upper bound - \"))\n",
        "\n",
        "#choosing random number\n",
        "x = random.randint(lower, upper)\n",
        "\n",
        "print(\"You've only\", round(math.log(upper - lower + 1, 2)), \"chances left to guess!\")\n",
        "\n",
        "#initiliazing the number of guesses\n",
        "count = 0\n",
        "\n",
        "while count < math.log(upper - lower + 1, 2):\n",
        "  count = count  + 1\n",
        "\n",
        "  #taking guessing number as the input\n",
        "  guess = int(input(\"Guess a number - \"))\n",
        "\n",
        "  #condition testing\n",
        "  if x==guess:\n",
        "    print(\"Congratulations, you've guessed the correct number in \", count, \" tries.\")\n",
        "    #once guessed right, loop will break\n",
        "    break\n",
        "\n",
        "  elif x > guess:\n",
        "    print(\"you've guessed too low.\")\n",
        "  elif x < guess:\n",
        "    print(\"you've guessed too high.\")\n",
        "\n",
        "if count >= math.log(upper - lower + 1, 2):\n",
        "  print(\"The number is %d\" % x)\n",
        "  print(\"Better luck next time!\")\n",
        "\n",
        "#Another guessing gaming idea is BIASED number guessing game."
      ]
    }
  ]
}